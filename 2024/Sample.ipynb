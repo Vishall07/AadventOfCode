{
 "cells": [
  {
   "cell_type": "code",
   "execution_count": 114,
   "metadata": {},
   "outputs": [],
   "source": [
    "f = open(\"day3input.txt\", \"r\")\n"
   ]
  },
  {
   "cell_type": "code",
   "execution_count": 115,
   "metadata": {},
   "outputs": [],
   "source": [
    "memory = \"\"\n",
    "for x in f:\n",
    "    memory += x\n"
   ]
  },
  {
   "cell_type": "code",
   "execution_count": 137,
   "metadata": {},
   "outputs": [
    {
     "name": "stdout",
     "output_type": "stream",
     "text": [
      "188192787\n"
     ]
    }
   ],
   "source": [
    "def extract_mul_results(memory):\n",
    "    total = 0\n",
    "    i = 0\n",
    "    while i < len(memory):\n",
    "        if memory[i:i+4] == \"mul(\":\n",
    "            j = i + 4\n",
    "            res = \"mul(\"\n",
    "            while j < len(memory) and (memory[j].isdigit() or memory[j] == ',' or memory[j] == ')'):\n",
    "                res += memory[j]\n",
    "                if memory[j] == ')':  \n",
    "                    break\n",
    "                j += 1  \n",
    "            if res.count(',') == 1 and res.endswith(')'):  \n",
    "                parts = res[4:-1].split(',')\n",
    "                if parts[0].isdigit() and parts[1].isdigit():\n",
    "                    total += int(parts[0]) * int(parts[1])\n",
    "            i = j  \n",
    "        i += 1\n",
    "    return total\n",
    "\n",
    "print(extract_mul_results(memory))\n",
    "\n",
    "\n",
    "\n"
   ]
  },
  {
   "cell_type": "code",
   "execution_count": 138,
   "metadata": {},
   "outputs": [
    {
     "name": "stdout",
     "output_type": "stream",
     "text": [
      "113965544\n"
     ]
    }
   ],
   "source": [
    "def extract_mul_results(memory):\n",
    "    total = 0\n",
    "    i = 0\n",
    "    enabled = True  # Multiplications start enabled\n",
    "\n",
    "    while i < len(memory):\n",
    "        if memory[i:i+5] == \"don't\":\n",
    "            enabled = False\n",
    "            i += 5\n",
    "        elif memory[i:i+3] == \"do(\":\n",
    "            enabled = True\n",
    "            i += 3\n",
    "        elif memory[i:i+4] == \"mul(\" and enabled:\n",
    "            j = i + 4\n",
    "            res = \"\"\n",
    "            while j < len(memory) and (memory[j].isdigit() or memory[j] == ',' or memory[j] == ')'):\n",
    "                res += memory[j]\n",
    "                if memory[j] == ')':\n",
    "                    break\n",
    "                j += 1\n",
    "            if res.count(',') == 1 and res.endswith(')'):\n",
    "                x, y = res[:-1].split(',')\n",
    "                if x.isdigit() and y.isdigit():\n",
    "                    total += int(x) * int(y)\n",
    "            i = j\n",
    "        i += 1\n",
    "\n",
    "    return total\n",
    "\n",
    "print(extract_mul_results(memory))\n"
   ]
  }
 ],
 "metadata": {
  "kernelspec": {
   "display_name": "gx-env",
   "language": "python",
   "name": "python3"
  },
  "language_info": {
   "codemirror_mode": {
    "name": "ipython",
    "version": 3
   },
   "file_extension": ".py",
   "mimetype": "text/x-python",
   "name": "python",
   "nbconvert_exporter": "python",
   "pygments_lexer": "ipython3",
   "version": "3.10.0"
  }
 },
 "nbformat": 4,
 "nbformat_minor": 2
}
